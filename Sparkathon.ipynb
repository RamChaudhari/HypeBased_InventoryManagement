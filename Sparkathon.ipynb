{
 "cells": [
  {
   "cell_type": "code",
   "execution_count": 193,
   "metadata": {},
   "outputs": [
    {
     "name": "stderr",
     "output_type": "stream",
     "text": [
      "[nltk_data] Downloading package punkt to\n",
      "[nltk_data]     C:\\Users\\ramch\\AppData\\Roaming\\nltk_data...\n",
      "[nltk_data]   Package punkt is already up-to-date!\n"
     ]
    }
   ],
   "source": [
    "import nltk\n",
    "nltk.download('punkt')\n",
    "import pandas as pd\n",
    "import csv"
   ]
  },
  {
   "cell_type": "code",
   "execution_count": 194,
   "metadata": {},
   "outputs": [],
   "source": [
    "data = pd.read_csv(\"ps5_review.csv\")\n",
    "data['flag'] = 0\n",
    "data = data.drop(['Date', 'Author', 'Headquarters', 'Title', 'Headquarters', 'Review Rating'], axis=1)\n"
   ]
  },
  {
   "cell_type": "markdown",
   "metadata": {},
   "source": [
    "TOKENIZATION"
   ]
  },
  {
   "cell_type": "code",
   "execution_count": 195,
   "metadata": {},
   "outputs": [
    {
     "name": "stdout",
     "output_type": "stream",
     "text": [
      "             Source                                            Excerpt  flag  \\\n",
      "0         The Verge  [The, PS5, 's, impressive, hardware, and, excl...     0   \n",
      "1               IGN  [From, the, lightning-fast, SSD, to, the, Dual...     0   \n",
      "2              CNET  [While, the, PS5, delivers, stunning, visuals,...     0   \n",
      "3          GameSpot  [The, PS5, 's, launch, lineup, showcases, a, m...     0   \n",
      "4   Digital Foundry  [In-depth, technical, analysis, of, the, PS5, ...     0   \n",
      "5            Forbes  [The, PS5, represents, a, significant, leap, i...     0   \n",
      "6        TechCrunch  [The, haptic, feedback, and, adaptive, trigger...     0   \n",
      "7         Bloomberg  [The, PS5, 's, powerful, hardware, and, innova...     0   \n",
      "8          Engadget  [The, PS5, 's, user, interface, is, streamline...     0   \n",
      "9        GamesRadar  [Comparative, analysis, of, the, PS5, and, Xbo...     0   \n",
      "10            Wired  [Interview, with, PS5, designers, discussing, ...     0   \n",
      "11   Tom's Hardware  [An, exploration, of, the, PS5, 's, ray, traci...     0   \n",
      "12          Polygon  [Detailed, analysis, of, PS5, 's, backward, co...     0   \n",
      "13        Eurogamer  [Breaking, down, the, technical, prowess, of, ...     0   \n",
      "14         TechSpot  [Exploring, the, Tempest, 3D, AudioTech, in, P...     0   \n",
      "15         UploadVR  [Discussing, the, potential, synergy, between,...     0   \n",
      "16           Kotaku  [An, overview, of, the, PS5, 's, launch, ,, hi...     0   \n",
      "17              IGN  [Examining, the, social, integration, and, onl...     0   \n",
      "18            PCMag  [Speculating, on, the, potential, future, deve...     0   \n",
      "19        GreenTech  [Analyzing, the, PS5, 's, energy, efficiency, ...     0   \n",
      "20      VentureBeat  [Exploring, PS5, 's, integration, with, game, ...     0   \n",
      "\n",
      "    Exceprt  \n",
      "0       NaN  \n",
      "1       NaN  \n",
      "2       NaN  \n",
      "3       NaN  \n",
      "4       NaN  \n",
      "5       NaN  \n",
      "6       NaN  \n",
      "7       NaN  \n",
      "8       NaN  \n",
      "9       NaN  \n",
      "10      NaN  \n",
      "11      NaN  \n",
      "12      NaN  \n",
      "13      NaN  \n",
      "14      NaN  \n",
      "15      NaN  \n",
      "16      NaN  \n",
      "17      NaN  \n",
      "18      NaN  \n",
      "19      NaN  \n",
      "20      NaN  \n"
     ]
    }
   ],
   "source": [
    "from nltk.tokenize import word_tokenize\n",
    "data['Excerpt'] = data['Excerpt'].apply(word_tokenize)\n",
    "data['Exceprt'] = data['Excerpt'].str.lower()\n",
    "print(data.head(21))"
   ]
  },
  {
   "cell_type": "markdown",
   "metadata": {},
   "source": [
    "STEMMING"
   ]
  },
  {
   "cell_type": "code",
   "execution_count": null,
   "metadata": {},
   "outputs": [],
   "source": []
  },
  {
   "cell_type": "markdown",
   "metadata": {},
   "source": [
    "STOPWORD REMOVAL"
   ]
  },
  {
   "cell_type": "code",
   "execution_count": 196,
   "metadata": {},
   "outputs": [
    {
     "name": "stdout",
     "output_type": "stream",
     "text": [
      "             Source                                            Excerpt  flag  \\\n",
      "0         The Verge  [The, PS5, impressive, hardware, and, exclusiv...     0   \n",
      "1               IGN  [From, the, lightning-fast, SSD, the, DualSens...     0   \n",
      "2              CNET  [While, the, PS5, delivers, stunning, visuals,...     0   \n",
      "3          GameSpot  [The, PS5, launch, lineup, showcases, mix, gen...     0   \n",
      "4   Digital Foundry  [In-depth, technical, analysis, the, PS5, hard...     0   \n",
      "5            Forbes  [The, PS5, represents, significant, leap, gami...     0   \n",
      "6        TechCrunch  [The, haptic, feedback, and, adaptive, trigger...     0   \n",
      "7         Bloomberg  [The, PS5, powerful, hardware, and, innovative...     0   \n",
      "8          Engadget  [The, PS5, user, interface, streamlined, and, ...     0   \n",
      "9        GamesRadar  [Comparative, analysis, the, PS5, and, Xbox, S...     0   \n",
      "10            Wired  [Interview, with, PS5, designers, discussing, ...     0   \n",
      "11   Tom's Hardware  [exploration, the, PS5, ray, tracing, capabili...     0   \n",
      "12          Polygon  [Detailed, analysis, PS5, backward, compatibil...     0   \n",
      "13        Eurogamer  [Breaking, down, the, technical, prowess, the,...     0   \n",
      "14         TechSpot  [Exploring, the, Tempest, AudioTech, PS5, revo...     0   \n",
      "15         UploadVR  [Discussing, the, potential, synergy, between,...     0   \n",
      "16           Kotaku  [overview, the, PS5, launch, highlighting, bot...     0   \n",
      "17              IGN  [Examining, the, social, integration, and, onl...     0   \n",
      "18            PCMag  [Speculating, the, potential, future, developm...     0   \n",
      "19        GreenTech  [Analyzing, the, PS5, energy, efficiency, and,...     0   \n",
      "20      VentureBeat  [Exploring, PS5, integration, with, game, stre...     0   \n",
      "\n",
      "    Exceprt  \n",
      "0       NaN  \n",
      "1       NaN  \n",
      "2       NaN  \n",
      "3       NaN  \n",
      "4       NaN  \n",
      "5       NaN  \n",
      "6       NaN  \n",
      "7       NaN  \n",
      "8       NaN  \n",
      "9       NaN  \n",
      "10      NaN  \n",
      "11      NaN  \n",
      "12      NaN  \n",
      "13      NaN  \n",
      "14      NaN  \n",
      "15      NaN  \n",
      "16      NaN  \n",
      "17      NaN  \n",
      "18      NaN  \n",
      "19      NaN  \n",
      "20      NaN  \n",
      "             Source                                            Excerpt  flag  \\\n",
      "0         The Verge  The PS5 impressive hardware and exclusive game...     0   \n",
      "1               IGN  From the lightning-fast SSD the DualSense cont...     0   \n",
      "2              CNET  While the PS5 delivers stunning visuals its la...     0   \n",
      "3          GameSpot  The PS5 launch lineup showcases mix genres cat...     0   \n",
      "4   Digital Foundry  In-depth technical analysis the PS5 hardware s...     0   \n",
      "5            Forbes  The PS5 represents significant leap gaming tec...     0   \n",
      "6        TechCrunch  The haptic feedback and adaptive triggers the ...     0   \n",
      "7         Bloomberg  The PS5 powerful hardware and innovative featu...     0   \n",
      "8          Engadget  The PS5 user interface streamlined and intuiti...     0   \n",
      "9        GamesRadar  Comparative analysis the PS5 and Xbox Series h...     0   \n",
      "10            Wired  Interview with PS5 designers discussing the de...     0   \n",
      "11   Tom's Hardware  exploration the PS5 ray tracing capabilities a...     0   \n",
      "12          Polygon  Detailed analysis PS5 backward compatibility a...     0   \n",
      "13        Eurogamer  Breaking down the technical prowess the PS5 sh...     0   \n",
      "14         TechSpot  Exploring the Tempest AudioTech PS5 revolution...     0   \n",
      "15         UploadVR  Discussing the potential synergy between PS5 a...     0   \n",
      "16           Kotaku  overview the PS5 launch highlighting both its ...     0   \n",
      "17              IGN  Examining the social integration and online ga...     0   \n",
      "18            PCMag  Speculating the potential future developments ...     0   \n",
      "19        GreenTech  Analyzing the PS5 energy efficiency and eco-fr...     0   \n",
      "20      VentureBeat  Exploring PS5 integration with game streaming ...     0   \n",
      "\n",
      "    Exceprt  \n",
      "0       NaN  \n",
      "1       NaN  \n",
      "2       NaN  \n",
      "3       NaN  \n",
      "4       NaN  \n",
      "5       NaN  \n",
      "6       NaN  \n",
      "7       NaN  \n",
      "8       NaN  \n",
      "9       NaN  \n",
      "10      NaN  \n",
      "11      NaN  \n",
      "12      NaN  \n",
      "13      NaN  \n",
      "14      NaN  \n",
      "15      NaN  \n",
      "16      NaN  \n",
      "17      NaN  \n",
      "18      NaN  \n",
      "19      NaN  \n",
      "20      NaN  \n"
     ]
    }
   ],
   "source": [
    "from nltk.corpus import stopwords\n",
    "\n",
    "def stop_it(t):\n",
    "    dt = [word for word in t if len(word)>2]\n",
    "    return dt\n",
    "\n",
    "data['Excerpt'] = data['Excerpt'].apply(stop_it)\n",
    "print(data.head(21))\n",
    "data['Excerpt'] = data['Excerpt'].apply(' '.join)\n",
    "print(data.head(21))"
   ]
  },
  {
   "cell_type": "markdown",
   "metadata": {},
   "source": [
    "SPLITTING"
   ]
  },
  {
   "cell_type": "code",
   "execution_count": 197,
   "metadata": {},
   "outputs": [
    {
     "name": "stdout",
     "output_type": "stream",
     "text": [
      "x_train:\n"
     ]
    },
    {
     "data": {
      "text/plain": [
       "0     The PS5 impressive hardware and exclusive game...\n",
       "19    Analyzing the PS5 energy efficiency and eco-fr...\n",
       "7     The PS5 powerful hardware and innovative featu...\n",
       "1     From the lightning-fast SSD the DualSense cont...\n",
       "3     The PS5 launch lineup showcases mix genres cat...\n",
       "Name: Excerpt, dtype: object"
      ]
     },
     "metadata": {},
     "output_type": "display_data"
    },
    {
     "name": "stdout",
     "output_type": "stream",
     "text": [
      "\n",
      "\n",
      "y_train:\n"
     ]
    },
    {
     "data": {
      "text/plain": [
       "0     1\n",
       "19    1\n",
       "7     1\n",
       "1     1\n",
       "3     0\n",
       "Name: flag, dtype: int64"
      ]
     },
     "metadata": {},
     "output_type": "display_data"
    }
   ],
   "source": [
    "positive_words = ['efficient', 'good', 'impressive', 'forward', 'strengths', 'enhancing', 'innovative', 'powerful', \n",
    "'immersive', 'significant', 'capabilities', 'stunning', 'diverse', 'sustainable', 'revolutionizing']\n",
    "\n",
    "data['flag'] = data.apply(lambda row: 1 if any(word in row['Excerpt'] for word in positive_words) else row['flag'], axis=1)\n",
    "\n",
    "x_train, x_test, y_train, y_test = train_test_split(data['Excerpt'], data['flag'], test_size=0.25)\n",
    "\n",
    "print(\"x_train:\")\n",
    "display(x_train.head())\n",
    "print(\"\\n\")\n",
    "\n",
    "print(\"y_train:\")\n",
    "display(y_train.head())\n"
   ]
  },
  {
   "cell_type": "markdown",
   "metadata": {},
   "source": [
    "VECTORIZATION"
   ]
  },
  {
   "cell_type": "code",
   "execution_count": 198,
   "metadata": {},
   "outputs": [
    {
     "name": "stdout",
     "output_type": "stream",
     "text": [
      "  (0, 50)\t0.17681191153364215\n",
      "  (0, 17)\t0.34562291340828316\n",
      "  (0, 44)\t0.34562291340828316\n",
      "  (0, 104)\t0.34562291340828316\n",
      "  (0, 99)\t0.3001153010529264\n",
      "  (0, 76)\t0.34562291340828316\n",
      "  (0, 49)\t0.24278248991169085\n",
      "  (0, 36)\t0.34562291340828316\n",
      "  (0, 6)\t0.17681191153364215\n",
      "  (0, 55)\t0.2678271362443558\n",
      "  (0, 62)\t0.34562291340828316\n",
      "  (1, 47)\t0.27085921954201503\n",
      "  (1, 106)\t0.311930622174761\n",
      "  (1, 78)\t0.311930622174761\n",
      "  (1, 19)\t0.311930622174761\n",
      "  (1, 65)\t0.311930622174761\n",
      "  (1, 45)\t0.311930622174761\n",
      "  (1, 31)\t0.311930622174761\n",
      "  (1, 32)\t0.311930622174761\n",
      "  (1, 34)\t0.311930622174761\n",
      "  (1, 5)\t0.311930622174761\n",
      "  (1, 50)\t0.15957579035694805\n",
      "  (1, 6)\t0.15957579035694805\n",
      "  (2, 68)\t0.3598055282917344\n",
      "  (2, 95)\t0.3598055282917344\n",
      "  :\t:\n",
      "  (12, 85)\t0.25676092019235974\n",
      "  (12, 37)\t0.2877149864002266\n",
      "  (13, 83)\t0.3269314572957807\n",
      "  (13, 35)\t0.3269314572957807\n",
      "  (13, 3)\t0.3269314572957807\n",
      "  (13, 16)\t0.3269314572957807\n",
      "  (13, 9)\t0.3269314572957807\n",
      "  (13, 25)\t0.3269314572957807\n",
      "  (13, 4)\t0.28388491886268474\n",
      "  (13, 85)\t0.2533429137908088\n",
      "  (13, 90)\t0.28388491886268474\n",
      "  (13, 115)\t0.28388491886268474\n",
      "  (13, 49)\t0.2296526941747174\n",
      "  (14, 30)\t0.30868213150745616\n",
      "  (14, 116)\t0.30868213150745616\n",
      "  (14, 23)\t0.30868213150745616\n",
      "  (14, 53)\t0.30868213150745616\n",
      "  (14, 0)\t0.30868213150745616\n",
      "  (14, 89)\t0.30868213150745616\n",
      "  (14, 28)\t0.30868213150745616\n",
      "  (14, 12)\t0.30868213150745616\n",
      "  (14, 98)\t0.26803845240892243\n",
      "  (14, 108)\t0.26803845240892243\n",
      "  (14, 67)\t0.21683347246743087\n",
      "  (14, 49)\t0.21683347246743087\n"
     ]
    }
   ],
   "source": [
    "from sklearn.feature_extraction.text import TfidfVectorizer\n",
    "my_tfidf = TfidfVectorizer(max_df=0.7)\n",
    "\n",
    "tfidf_train = my_tfidf.fit_transform(x_train)\n",
    "tfidf_test = my_tfidf.transform(x_test)\n",
    "print(tfidf_train)"
   ]
  },
  {
   "cell_type": "markdown",
   "metadata": {},
   "source": [
    "LOGISTIC REGRESSION"
   ]
  },
  {
   "cell_type": "code",
   "execution_count": 199,
   "metadata": {},
   "outputs": [
    {
     "name": "stdout",
     "output_type": "stream",
     "text": [
      "100.0\n"
     ]
    }
   ],
   "source": [
    "from sklearn.linear_model import LogisticRegression\n",
    "from sklearn.tree import DecisionTreeClassifier\n",
    "from sklearn.metrics import accuracy_score\n",
    "model_1 = LogisticRegression(max_iter=900)\n",
    "model_1.fit(tfidf_train, y_train)\n",
    "predict_1 = model_1.predict(tfidf_test)\n",
    "accur_pc = accuracy_score(y_test, predict_1)\n",
    "print(accur_pc*100)"
   ]
  },
  {
   "cell_type": "code",
   "execution_count": 200,
   "metadata": {},
   "outputs": [],
   "source": [
    "import numpy as np\n",
    "\n",
    "# Load the viewership data\n",
    "viewership_data = pd.read_csv(\"viewership.csv\")\n",
    "\n",
    "# Specify the unit count of the product\n",
    "unit_count = 1000  # Change this to your desired unit count\n",
    "\n",
    "# Filter data with flag == 1\n",
    "positive_sources = data[data['flag'] == 1]\n",
    "\n",
    "# Calculate the distribution for each country based on viewership percentages\n",
    "distribution = {}\n",
    "for index, row in positive_sources.iterrows():\n",
    "    source = 'Source'\n",
    "    source_viewership = viewership_data[viewership_data['Source'] == source]\n",
    "    \n",
    "    if not source_viewership.empty:\n",
    "        viewership_percentage = source_viewership.iloc[0, 1:].sum()  # Sum of viewership percentages for the source\n",
    "        if not np.isnan(viewership_percentage):  # Check for NaN value\n",
    "            country_distribution = (source_viewership.iloc[0, 1:] / viewership_percentage) * unit_count\n",
    "            distribution[source] = country_distribution\n",
    "\n",
    "# Print the distribution for each source\n",
    "for source, country_distribution in distribution.items():\n",
    "    print(f\"Distribution for {source}:\")\n",
    "    print(country_distribution)\n",
    "    print(\"\\n\")\n",
    "\n"
   ]
  }
 ],
 "metadata": {
  "kernelspec": {
   "display_name": "Python 3",
   "language": "python",
   "name": "python3"
  },
  "language_info": {
   "codemirror_mode": {
    "name": "ipython",
    "version": 3
   },
   "file_extension": ".py",
   "mimetype": "text/x-python",
   "name": "python",
   "nbconvert_exporter": "python",
   "pygments_lexer": "ipython3",
   "version": "3.11.3"
  },
  "orig_nbformat": 4
 },
 "nbformat": 4,
 "nbformat_minor": 2
}
